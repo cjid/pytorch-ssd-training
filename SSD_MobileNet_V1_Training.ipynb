{
  "nbformat": 4,
  "nbformat_minor": 0,
  "metadata": {
    "colab": {
      "provenance": [],
      "gpuType": "T4"
    },
    "kernelspec": {
      "name": "python3",
      "display_name": "Python 3"
    },
    "language_info": {
      "name": "python"
    },
    "accelerator": "GPU"
  },
  "cells": [
    {
      "cell_type": "code",
      "execution_count": null,
      "metadata": {
        "id": "2ZMHthJpbQNs"
      },
      "outputs": [],
      "source": [
        "!git clone https://github.com/dusty-nv/pytorch-ssd.git"
      ]
    },
    {
      "cell_type": "code",
      "source": [
        "cd pytorch-ssd/"
      ],
      "metadata": {
        "id": "9dhu-r2WbYM2"
      },
      "execution_count": null,
      "outputs": []
    },
    {
      "cell_type": "code",
      "source": [
        "!wget https://nvidia.box.com/shared/static/djf5w54rjvpqocsiztzaandq1m3avr7c.pth -O models/mobilenet-v1-ssd-mp-0_675.pth"
      ],
      "metadata": {
        "id": "5qqx5xxQba0j"
      },
      "execution_count": null,
      "outputs": []
    },
    {
      "cell_type": "code",
      "source": [
        "!pip install -r requirements.txt"
      ],
      "metadata": {
        "id": "_Nwje5M7bkJ4"
      },
      "execution_count": null,
      "outputs": []
    },
    {
      "cell_type": "code",
      "source": [
        "!pip3 install onnx onnxslim onnxruntime-gpu"
      ],
      "metadata": {
        "id": "BbraLVglfvJi"
      },
      "execution_count": null,
      "outputs": []
    },
    {
      "cell_type": "code",
      "source": [
        "!pip3 install torch torchvision torchaudio --index-url https://download.pytorch.org/whl/cu126"
      ],
      "metadata": {
        "id": "brw-b2GLfXGY"
      },
      "execution_count": null,
      "outputs": []
    },
    {
      "cell_type": "code",
      "source": [
        "!python3 open_images_downloader.py --max-images=5000 --class-names \"Car,Van\" --data=data/car"
      ],
      "metadata": {
        "id": "GP4mriGXbztT"
      },
      "execution_count": null,
      "outputs": []
    },
    {
      "cell_type": "code",
      "source": [
        "!python3 train_ssd.py --data=data/car --model-dir=models/car --batch-size=4 --workers=4 --epochs=100"
      ],
      "metadata": {
        "id": "HhIR9XuNcMk1"
      },
      "execution_count": null,
      "outputs": []
    },
    {
      "cell_type": "code",
      "source": [
        "!python3 onnx_export.py --model-dir=models/car"
      ],
      "metadata": {
        "id": "Dx0_3JCGecbC"
      },
      "execution_count": null,
      "outputs": []
    }
  ]
}